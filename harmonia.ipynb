{
 "cells": [
  {
   "cell_type": "markdown",
   "metadata": {},
   "source": [
    "# Harmony By Kipio\n",
    "\n",
    "Empezamos importando los paquetes necesarios. La idea es hacer un programa para visualizar la harmonia de diferentes escalas y ver la posición de todas las notas en la guitarra de una manera dinamica. Hell Yeah !"
   ]
  },
  {
   "cell_type": "code",
   "execution_count": 36,
   "metadata": {
    "collapsed": true
   },
   "outputs": [],
   "source": [
    "from bokeh.io import output_notebook, show\n",
    "from bokeh.plotting import figure\n",
    "\n",
    "\n",
    "from bokeh.models.tickers import FixedTicker\n",
    "from bokeh.models import BoxAnnotation\n",
    "\n",
    "namez = []\n"
   ]
  },
  {
   "cell_type": "code",
   "execution_count": 37,
   "metadata": {},
   "outputs": [
    {
     "data": {
      "text/html": [
       "\n",
       "    <div class=\"bk-root\">\n",
       "        <a href=\"http://bokeh.pydata.org\" target=\"_blank\" class=\"bk-logo bk-logo-small bk-logo-notebook\"></a>\n",
       "        <span id=\"715bc52b-1708-45c5-8eff-9dfff02f2d5f\">Loading BokehJS ...</span>\n",
       "    </div>"
      ]
     },
     "metadata": {},
     "output_type": "display_data"
    },
    {
     "data": {
      "application/javascript": [
       "\n",
       "(function(global) {\n",
       "  function now() {\n",
       "    return new Date();\n",
       "  }\n",
       "\n",
       "  var force = true;\n",
       "\n",
       "  if (typeof (window._bokeh_onload_callbacks) === \"undefined\" || force === true) {\n",
       "    window._bokeh_onload_callbacks = [];\n",
       "    window._bokeh_is_loading = undefined;\n",
       "  }\n",
       "\n",
       "\n",
       "  \n",
       "  if (typeof (window._bokeh_timeout) === \"undefined\" || force === true) {\n",
       "    window._bokeh_timeout = Date.now() + 5000;\n",
       "    window._bokeh_failed_load = false;\n",
       "  }\n",
       "\n",
       "  var NB_LOAD_WARNING = {'data': {'text/html':\n",
       "     \"<div style='background-color: #fdd'>\\n\"+\n",
       "     \"<p>\\n\"+\n",
       "     \"BokehJS does not appear to have successfully loaded. If loading BokehJS from CDN, this \\n\"+\n",
       "     \"may be due to a slow or bad network connection. Possible fixes:\\n\"+\n",
       "     \"</p>\\n\"+\n",
       "     \"<ul>\\n\"+\n",
       "     \"<li>re-rerun `output_notebook()` to attempt to load from CDN again, or</li>\\n\"+\n",
       "     \"<li>use INLINE resources instead, as so:</li>\\n\"+\n",
       "     \"</ul>\\n\"+\n",
       "     \"<code>\\n\"+\n",
       "     \"from bokeh.resources import INLINE\\n\"+\n",
       "     \"output_notebook(resources=INLINE)\\n\"+\n",
       "     \"</code>\\n\"+\n",
       "     \"</div>\"}};\n",
       "\n",
       "  function display_loaded() {\n",
       "    if (window.Bokeh !== undefined) {\n",
       "      var el = document.getElementById(\"715bc52b-1708-45c5-8eff-9dfff02f2d5f\");\n",
       "      el.textContent = \"BokehJS \" + Bokeh.version + \" successfully loaded.\";\n",
       "    } else if (Date.now() < window._bokeh_timeout) {\n",
       "      setTimeout(display_loaded, 100)\n",
       "    }\n",
       "  }\n",
       "\n",
       "  function run_callbacks() {\n",
       "    window._bokeh_onload_callbacks.forEach(function(callback) { callback() });\n",
       "    delete window._bokeh_onload_callbacks\n",
       "    console.info(\"Bokeh: all callbacks have finished\");\n",
       "  }\n",
       "\n",
       "  function load_libs(js_urls, callback) {\n",
       "    window._bokeh_onload_callbacks.push(callback);\n",
       "    if (window._bokeh_is_loading > 0) {\n",
       "      console.log(\"Bokeh: BokehJS is being loaded, scheduling callback at\", now());\n",
       "      return null;\n",
       "    }\n",
       "    if (js_urls == null || js_urls.length === 0) {\n",
       "      run_callbacks();\n",
       "      return null;\n",
       "    }\n",
       "    console.log(\"Bokeh: BokehJS not loaded, scheduling load and callback at\", now());\n",
       "    window._bokeh_is_loading = js_urls.length;\n",
       "    for (var i = 0; i < js_urls.length; i++) {\n",
       "      var url = js_urls[i];\n",
       "      var s = document.createElement('script');\n",
       "      s.src = url;\n",
       "      s.async = false;\n",
       "      s.onreadystatechange = s.onload = function() {\n",
       "        window._bokeh_is_loading--;\n",
       "        if (window._bokeh_is_loading === 0) {\n",
       "          console.log(\"Bokeh: all BokehJS libraries loaded\");\n",
       "          run_callbacks()\n",
       "        }\n",
       "      };\n",
       "      s.onerror = function() {\n",
       "        console.warn(\"failed to load library \" + url);\n",
       "      };\n",
       "      console.log(\"Bokeh: injecting script tag for BokehJS library: \", url);\n",
       "      document.getElementsByTagName(\"head\")[0].appendChild(s);\n",
       "    }\n",
       "  };var element = document.getElementById(\"715bc52b-1708-45c5-8eff-9dfff02f2d5f\");\n",
       "  if (element == null) {\n",
       "    console.log(\"Bokeh: ERROR: autoload.js configured with elementid '715bc52b-1708-45c5-8eff-9dfff02f2d5f' but no matching script tag was found. \")\n",
       "    return false;\n",
       "  }\n",
       "\n",
       "  var js_urls = [\"https://cdn.pydata.org/bokeh/release/bokeh-0.12.5.min.js\", \"https://cdn.pydata.org/bokeh/release/bokeh-widgets-0.12.5.min.js\"];\n",
       "\n",
       "  var inline_js = [\n",
       "    function(Bokeh) {\n",
       "      Bokeh.set_log_level(\"info\");\n",
       "    },\n",
       "    \n",
       "    function(Bokeh) {\n",
       "      \n",
       "    },\n",
       "    \n",
       "    function(Bokeh) {\n",
       "      \n",
       "      document.getElementById(\"715bc52b-1708-45c5-8eff-9dfff02f2d5f\").textContent = \"BokehJS is loading...\";\n",
       "    },\n",
       "    function(Bokeh) {\n",
       "      console.log(\"Bokeh: injecting CSS: https://cdn.pydata.org/bokeh/release/bokeh-0.12.5.min.css\");\n",
       "      Bokeh.embed.inject_css(\"https://cdn.pydata.org/bokeh/release/bokeh-0.12.5.min.css\");\n",
       "      console.log(\"Bokeh: injecting CSS: https://cdn.pydata.org/bokeh/release/bokeh-widgets-0.12.5.min.css\");\n",
       "      Bokeh.embed.inject_css(\"https://cdn.pydata.org/bokeh/release/bokeh-widgets-0.12.5.min.css\");\n",
       "    }\n",
       "  ];\n",
       "\n",
       "  function run_inline_js() {\n",
       "    \n",
       "    if ((window.Bokeh !== undefined) || (force === true)) {\n",
       "      for (var i = 0; i < inline_js.length; i++) {\n",
       "        inline_js[i](window.Bokeh);\n",
       "      }if (force === true) {\n",
       "        display_loaded();\n",
       "      }} else if (Date.now() < window._bokeh_timeout) {\n",
       "      setTimeout(run_inline_js, 100);\n",
       "    } else if (!window._bokeh_failed_load) {\n",
       "      console.log(\"Bokeh: BokehJS failed to load within specified timeout.\");\n",
       "      window._bokeh_failed_load = true;\n",
       "    } else if (force !== true) {\n",
       "      var cell = $(document.getElementById(\"715bc52b-1708-45c5-8eff-9dfff02f2d5f\")).parents('.cell').data().cell;\n",
       "      cell.output_area.append_execute_result(NB_LOAD_WARNING)\n",
       "    }\n",
       "\n",
       "  }\n",
       "\n",
       "  if (window._bokeh_is_loading === 0) {\n",
       "    console.log(\"Bokeh: BokehJS loaded, going straight to plotting\");\n",
       "    run_inline_js();\n",
       "  } else {\n",
       "    load_libs(js_urls, function() {\n",
       "      console.log(\"Bokeh: BokehJS plotting callback run at\", now());\n",
       "      run_inline_js();\n",
       "    });\n",
       "  }\n",
       "}(this));"
      ]
     },
     "metadata": {},
     "output_type": "display_data"
    }
   ],
   "source": [
    "output_notebook()"
   ]
  },
  {
   "cell_type": "markdown",
   "metadata": {},
   "source": [
    "## Notes\n",
    "\n",
    "\n",
    "\n",
    "La idea que tengo se basa en referirme a una lista con las doce notas de una octava por medio de indexes. El punto central se basa en anclar los indexes con los intervalos especificos de diferentes escalas/acordes. Por ejemplo:\n",
    "\n",
    "La escala mayor, se basa en Tono, Tono, Semitono, Tono, Tono, Tono, Semitono para dividir la octava de doce notas. \n",
    "\n",
    "Lo que viene a ser: 0, 2, 4, 5, 7, 9, 11, 12 como indexes.\n",
    "Teniendo una list comprendiendo una octava, empezando en cada una de las doce notas tenemos..."
   ]
  },
  {
   "cell_type": "code",
   "execution_count": 38,
   "metadata": {
    "collapsed": true
   },
   "outputs": [],
   "source": [
    "import numpy as np\n",
    "\n",
    "#Guitar Armonics Abstraction\n",
    "\n",
    "guitar = {'#': [0, 1, 2, 3, 4, 5, 6, 7, 8, 9, 10, 11, 12],\n",
    "          'E' :['E','F', 'F#' , 'G', 'G#', 'A', 'A#', 'B', 'C', 'C#', 'D', 'D#', 'E'],\n",
    "          'A':['A', 'A#', 'B', 'C' , 'C#', 'D', 'D#', 'E', 'F', 'F#' , 'G', 'G#', 'A'],\n",
    "          'D':['D', 'D#', 'E', 'F', 'F#' , 'G', 'G#', 'A','A#', 'B', 'C' ,'C#', 'D' ],\n",
    "          'G':['G','G#', 'A','A#', 'B', 'C', 'C#', 'D' , 'D#', 'E', 'F', 'F#','G'],\n",
    "          'B':['B','C', 'C#', 'D', 'D#', 'E','F', 'F#' , 'G', 'G#', 'A', 'A#', 'B']}\n",
    "\n",
    "index = np.array(guitar[\"#\"])\n",
    "E = np.array(guitar['E'])\n",
    "A = np.array(guitar ['A'])\n",
    "D = np.array(guitar['D'])\n",
    "G = np.array(guitar['G'])\n",
    "B = np.array(guitar['B'])\n",
    "all_strings = [E,A,D,G,B,E]\n",
    "\n",
    "\n",
    "# Convertir todas las cuerdas a numpy_arrays para poder sumar indices! \n",
    "numpy_E = np.array(E) \n",
    "numpy_A = np.array(A)\n",
    "numpy_D = np.array(D)\n",
    "numpy_G = np.array(G)\n",
    "numpy_B = np.array(B)\n",
    "numpy_index = np.array(index)\n",
    "numpy_strings = np.array([numpy_E, numpy_A, numpy_D, numpy_G, numpy_B])\n",
    "np_major_inter = [0,2,4,5,7,9,11,12]"
   ]
  },
  {
   "cell_type": "code",
   "execution_count": 39,
   "metadata": {
    "collapsed": true
   },
   "outputs": [],
   "source": [
    "C = ['C' , 'C#', 'D', 'D#', 'E', 'F', 'F#' , 'G', 'G#', 'A', 'A#', 'B']\n",
    "\n",
    "whole_notes = ['C' , 'C#', 'D', 'D#', 'E', 'F', 'F#' , 'G', 'G#', 'A', 'A#', 'B', \n",
    "               'C' , 'C#', 'D', 'D#', 'E', 'F', 'F#' , 'G', 'G#', 'A', 'A#', 'B','C']\n",
    "\n",
    "np_major_inter = np.array([0, 2, 4, 5, 7, 9, 11, 12])\n",
    "np_locrian_inter = np.array([0, 1, 3, 5, 6, 8, 10, 12])\n",
    "np_minor_inter = np.array([0, 2 , 3, 5, 7, 10, 11])\n",
    "np_dorian_inter = np.array([0,  2,  3,  5,  7,  9, 10, 12])\n",
    "np_phrygian_inter = np.array([0, 1, 3, 5, 7, 8, 10, 12])\n",
    "np_lydian_inter = np.array([0, 2, 4, 6, 7, 9, 11, 12])\n",
    "np_mixolydian_inter = np.array([0, 2, 4, 5, 7, 9, 10, 12])\n",
    "np_aeolian_inter = np.array([0, 2, 3, 5, 7, 8, 10, 12])\n",
    "np_harmonic_inter = np.array([0, 2, 3, 5, 7, 8, 10, 12])\n",
    "phrygian_inter =  np.array([0, 1, 3, 5, 7, 8, 10, 12])\n",
    "dorian_inter = np.array([0,  2,  3,  5,  7,  9, 10, 12])\n",
    "\n",
    "all_major_scales = []\n",
    "all_dorian_scales = []\n",
    "all_phrygian_scales = []\n",
    "all_lydian_scales = []\n",
    "all_mixolydian_scales = []\n",
    "all_locrian_scales = []\n",
    "all_minor_scales = []\n",
    "all_harmonic_minor_scales = []"
   ]
  },
  {
   "cell_type": "code",
   "execution_count": 40,
   "metadata": {},
   "outputs": [],
   "source": [
    "import numpy as np\n",
    "intervalo_mayor = [0,2,4,5,7,9,11,12]\n",
    "\n",
    "intervalo_siguiente = [0,]+ [i + 1 for i in intervalo_mayor]\n",
    "\n",
    "len(intervalo_siguiente)\n",
    "del intervalo_siguiente[8] \n",
    "#intervalo_siguiente\n",
    "\n"
   ]
  },
  {
   "cell_type": "markdown",
   "metadata": {},
   "source": [
    "# Defining Scales "
   ]
  },
  {
   "cell_type": "code",
   "execution_count": 41,
   "metadata": {},
   "outputs": [],
   "source": [
    "# PARA HALLAR EL ESPEJISMO DE LA HARMONIA SOBRE LA ROOT\n",
    "np_major_inverse = np_major_inter*(-1)\n",
    "\n",
    "\n",
    "modos = {\n",
    "    \n",
    "    # ESCALAS\n",
    "    'major': np_major_inter,\n",
    "    'np_major_inverse': np_major_inverse,\n",
    "    'dorian': np.array([0,  2,  3,  5,  7,  9, 10, 12]),\n",
    "    'phrygian': np.array([0, 1, 3, 5, 7, 8, 10, 12]),\n",
    "    'lydian': np_lydian_inter,\n",
    "    'mixolydian' :np_mixolydian_inter,\n",
    "    'aeolian': np_aeolian_inter,\n",
    "    'locrian':np_locrian_inter,\n",
    "    'harmonic_minor':np_harmonic_inter,\n",
    "    'minor': np_minor_inter,\n",
    "    'pentatonic_minor' : np.array([0, 3, 5, 7, 10]),\n",
    "    'pentatonic_major' : np.array([0, 2, 4, 7, 9]),\n",
    "    'minor_blues': np.array([0, 3, 5, 6, 7, 10]),\n",
    "    \n",
    "    # ACORDES DE TRIADAS\n",
    "    'maj': np.array([0, 4, 7]),\n",
    "    'dor': dorian_inter[0:3],\n",
    "    'phr': phrygian_inter[0:3],\n",
    "    'lyd': np_lydian_inter[0:3],\n",
    "    'mix' :np_mixolydian_inter[0:3],\n",
    "    'aeo': np_aeolian_inter[0:3],\n",
    "    'loc':np_locrian_inter[0:3],\n",
    "    'har':np_harmonic_inter[0:3],\n",
    "    'min': np.array([0, 3, 7]),\n",
    "    \n",
    "    # QUATTROS\n",
    "    \n",
    "    # PENTAS\n",
    "    \n",
    "    # SEXTAS (...)\n",
    "    \n",
    "    \n",
    "}\n",
    "\n",
    "full_scales = {\n",
    "    'major': np.array([]),\n",
    "    'np_major_inverse': np.array([]),\n",
    "    'dorian' : np.array([]),\n",
    "    'phrygian' : np.array([]),\n",
    "    'lydian': np.array([]),\n",
    "    'mixolydian' : np.array([]),\n",
    "    'aeolian': np.array([]),\n",
    "    'locrian': np.array([]),\n",
    "    'harmonic_minor': np.array([]),\n",
    "    'pentatonic_minor':np.array([]),\n",
    "    'pentatonic_major':np.array([]),\n",
    "    'minor_blues':np.array([]),\n",
    "    'minor':np.array([]),\n",
    "    'maj': np.array([]),\n",
    "    'dor': np.array([]),\n",
    "    'phr': np.array([]),\n",
    "    'lyd': np.array([]),\n",
    "    'mix' :np.array([]),\n",
    "    'aeo': np.array([]),\n",
    "    'loc':np.array([]),\n",
    "    'har':np.array([]),\n",
    "    'min': np.array([]),\n",
    "    \n",
    "}   \n",
    " \n",
    "        \n",
    "\n",
    "\n"
   ]
  },
  {
   "cell_type": "code",
   "execution_count": 42,
   "metadata": {
    "collapsed": true
   },
   "outputs": [],
   "source": [
    "def find_note3(numpy_string, note):\n",
    "    global x1\n",
    "    global y1\n",
    "    x1 = []\n",
    "    y1 = []\n",
    "   \n",
    "    x1 = (numpy_index[numpy_string == str(note)]).tolist() # me da de los doce 13 indexes de index, los valores TRUE de la bolean list!\n",
    "    \n",
    "    # Establezco el valor de y0 en base a la cuerda que escogi...\n",
    "    \n",
    "    if str(numpy_string) == str(numpy_A):\n",
    "        y0 = 2\n",
    "    elif str(numpy_string) == str(numpy_D):\n",
    "        y0 = 3\n",
    "    elif str(numpy_string) == str(numpy_G):\n",
    "        y0 = 4\n",
    "    elif str(numpy_string) == str(numpy_B):\n",
    "        y0 = 5       \n",
    "    elif str(numpy_string) == str(numpy_E):\n",
    "        y0 = 1\n",
    "    # Si la nota buscada ocurre dos veces en la cuerda => al principio y al final de la octava de cada cuerda\n",
    "    # y = [y0, y0] si no, entonces y = [y0]\n",
    "    if len(x1) == 2:\n",
    "        y1 = [y0, y0]\n",
    "    else:\n",
    "        y1 = [y0]\n",
    "        \n",
    "     # Si me refiero a la cuerda E! como existen dos cuerdas en la guitarra. Duplico\n",
    "     # la lista de x,\n",
    "    if y0 == 1:\n",
    "        x1.extend(x1) # extend extiende la lista, append anade lo que haya. si es una lista anade otra lista!\n",
    "        \n",
    "     # EN la cuerda E, si la nota ocurre dos veces o solo una vez.\n",
    "    # Añado o dos o un 6.. Para referirme a la cuerda high e del plot.\n",
    "    # EL ORDEN AQUI ES CRITICO!\n",
    "    if len(y1) == 2 and y0 == 1:\n",
    "        for i in range(2):\n",
    "            y1.append(6)\n",
    "    if len(y1) == 1 and y0 == 1:\n",
    "        y1.append(6)\n",
    "        \n",
    "    return(x1,y1)"
   ]
  },
  {
   "cell_type": "code",
   "execution_count": 43,
   "metadata": {
    "collapsed": true
   },
   "outputs": [],
   "source": [
    "def make_values():\n",
    "    print('Input any note: ' , C)\n",
    "    print('\\033[1m')\n",
    "    note = input()\n",
    "    print('\\033[0m')\n",
    "    print('Type a modo: ')\n",
    "    for key, value in modos.items() :\n",
    "        if key == 'major':\n",
    "            print( '\\033[1m' + '_ _ _ _ _ _ _ _ _ _ Escalas _ _ _ _ _ _ _ _ _ _ _')\n",
    "            print ('\\033[0m')\n",
    "        print (key)\n",
    "        if key == 'minor_blues':\n",
    "            print('\\033[1m' + '_ _ _ _ _ _ _ _ _ _ Acordes: Triadas _ _ _ _ _ _ _ ')\n",
    "            print ('\\033[0m')\n",
    "    print('\\033[1m')\n",
    "    modo=  input()\n",
    "    \n",
    "    print('Processing...')\n",
    "    if len(modo) == 3:\n",
    "        subresultadi = 'triad'\n",
    "    elif len(modo)>3:\n",
    "        subresultadi = 'scale'\n",
    "        print( modo.title() + ' ' + subresultadi + ' of: ' + note)\n",
    "    \n",
    "    global x\n",
    "    global y \n",
    "    global labelz\n",
    "    \n",
    "    if True:\n",
    "    \n",
    "        x = []\n",
    "        y = []\n",
    "        labelz = []\n",
    "        for string in numpy_strings:\n",
    "            for i in make_scale(note, modo):\n",
    "                find_note3(string, i)\n",
    "                x.extend(x1)\n",
    "                y.extend(y1)\n",
    "                for element in x1:\n",
    "                    labelz.append(string[element])\n",
    "        make_scale(note, modo)\n",
    "        graph1()\n",
    "          \n",
    "            \n",
    "def make_chord(note):\n",
    "    global x\n",
    "    global y \n",
    "    global labelz\n",
    "    x = []\n",
    "    y = []\n",
    "    labelz = []\n",
    "    for string in numpy_strings:\n",
    "        for i in make_scale(note, modo):\n",
    "            find_note3(string, i)\n",
    "            x.extend(x1)\n",
    "            y.extend(y1)\n",
    "            for element in x1:\n",
    "                labelz.append(string[element])\n",
    "                                   \n",
    "                \n",
    "def make_scale (note, modo): \n",
    "    global full_scales\n",
    "    index_note = whole_notes.index(note)\n",
    "    scale = []\n",
    "    for interval in (modos[modo] + index_note):\n",
    "        scale.append(whole_notes[interval])\n",
    "    zcale = np.array(scale)\n",
    "    np.append(full_scales[modo], zcale)\n",
    "    return(scale)\n"
   ]
  },
  {
   "cell_type": "code",
   "execution_count": 44,
   "metadata": {},
   "outputs": [],
   "source": [
    "#make_scale('C', 'minor_blues')"
   ]
  },
  {
   "cell_type": "code",
   "execution_count": 45,
   "metadata": {
    "collapsed": true
   },
   "outputs": [],
   "source": [
    "from bokeh.models import ColumnDataSource, Range1d, LabelSet, Label\n",
    "def graph1():\n",
    "    global p\n",
    "    \n",
    "\n",
    "    \n",
    "    cuerdas_plot = ['E', 'A', 'D', 'G', 'B','e'] # 1,2,3,4,5,6 en el axis Y!!\n",
    "    \n",
    " \n",
    "    p = figure(plot_width=800, plot_height=400,x_range=(0.25,12.5), y_range=cuerdas_plot, tools=\"tap\")\n",
    "    p.circle(x, y, size=35,  fill_color=\"white\") # here is the thing you need to modify\n",
    "    \n",
    "    \n",
    "    \n",
    "\n",
    "    \n",
    "    source = ColumnDataSource(data=dict(height=x, weight=y, names = labelz))\n",
    "    \n",
    "    \n",
    "  \n",
    "\n",
    "    labels = LabelSet(x='height', y='weight', text='names', level='glyph',\n",
    "              x_offset=-5, y_offset=-9, source=source, render_mode='canvas')\n",
    "    \n",
    "    # p.circle([x], [y])\n",
    "\n",
    "    # set visual properties for selected glyphs\n",
    "    selection_color=\"firebrick\",\n",
    "    # set visual properties for non-selected glyphs\n",
    "    nonselection_fill_alpha=0.2,\n",
    "    nonselection_fill_color=\"grey\",\n",
    "    nonselection_line_color=\"firebrick\",\n",
    "    nonselection_line_alpha=1\n",
    "\n",
    "\n",
    "\n",
    "    #p.yaxis.axis_label = \"Cuerdas\"\n",
    "    p.xaxis.axis_label = \"Frets\"\n",
    "\n",
    "    p.yaxis.axis_line_color = \"purple\" # COLOR \n",
    "\n",
    "# change just some things about the x-grid\n",
    "\n",
    "    p.xgrid.grid_line_color = 'gray'\n",
    "\n",
    "# Definiendo los ticks en x para los frets\n",
    "    p.xaxis.ticker = FixedTicker(ticks=[1,2,3,4,5,6,7,8,9,10,11,12])\n",
    "    p.xgrid.ticker = FixedTicker(ticks=[1.5,2.5,3.5,4.5,5.5,6.5,7.5,8.5,9.5,10.5,11.5,12.5])\n",
    "    \n",
    "\n",
    "    \n",
    "# change just some things about the y-grid\n",
    "\n",
    "    p.ygrid.grid_line_color = 'green'\n",
    "\n",
    "    boxbig = BoxAnnotation(left=0, right = 12.5, top = 6, bottom = 1, fill_color = 'darkslateblue', fill_alpha = 0.09)\n",
    "    box3 = BoxAnnotation(bottom =1, top = 6, left=2.5, right=3.5, fill_color='skyblue', fill_alpha=0.1)\n",
    "    box5 = BoxAnnotation(bottom =1, top = 6,left=4.5, right=5.5, fill_color='skyblue', fill_alpha=0.1)\n",
    "    box7 = BoxAnnotation(bottom =1, top = 6,left=6.5, right=7.5, fill_color='skyblue', fill_alpha=0.1)\n",
    "    box9 = BoxAnnotation(bottom =1, top = 6,left=8.5, right=9.5, fill_color='skyblue', fill_alpha=0.1)\n",
    "    box12 = BoxAnnotation(bottom =1, top = 6,left=11.5, right=12.5, fill_color='skyblue', fill_alpha=0.1)\n",
    "    boxes = [box3,box5,box7,box9,box12,boxbig]\n",
    "    for i in boxes: #wtf is going on!\n",
    "        p.add_layout(i)\n",
    "\n",
    "    p.add_layout(labels)   \n",
    "\n",
    "    return show(p)#working :D\n",
    "\n",
    "\n"
   ]
  },
  {
   "cell_type": "code",
   "execution_count": 46,
   "metadata": {},
   "outputs": [],
   "source": [
    "# Runs old program\n",
    "#make_values()"
   ]
  },
  {
   "cell_type": "code",
   "execution_count": 47,
   "metadata": {},
   "outputs": [],
   "source": [
    "import ipywidgets as widgets\n",
    "from ipywidgets import HBox, VBox\n",
    "from IPython.display import HTML, display\n",
    "from IPython.display import clear_output\n",
    "\n",
    "button = widgets.Button(description = 'Display')\n",
    "out = widgets.Output()\n",
    "def on_button_clicked(b):\n",
    "    with out:\n",
    "        global note\n",
    "        global modo, dropdown1, dropdown2, SelSlid\n",
    "        note = dropdown1.value\n",
    "        note = SelSlid.value\n",
    "        modo = dropdown2.value\n",
    "        clear_output()\n",
    "        make_values2()\n",
    "    \n",
    "button.on_click(on_button_clicked)"
   ]
  },
  {
   "cell_type": "code",
   "execution_count": 48,
   "metadata": {},
   "outputs": [],
   "source": [
    "accordion = widgets.Accordion(children=[widgets.VBox([button])])\n",
    "tab1 = VBox(children=[accordion])\n",
    "tab= widgets.Tab(children=[tab1])\n",
    "#display(VBox(children=[tab]))"
   ]
  },
  {
   "cell_type": "code",
   "execution_count": 49,
   "metadata": {
    "collapsed": true
   },
   "outputs": [],
   "source": [
    "def make_values2():\n",
    "\n",
    "    \n",
    "    global x\n",
    "    global y \n",
    "    global labelz\n",
    "    \n",
    "    if True:\n",
    "    \n",
    "        x = []\n",
    "        y = []\n",
    "        labelz = []\n",
    "        for string in numpy_strings:\n",
    "            for i in make_scale(dropdown1.value, dropdown2.value):\n",
    "                find_note3(string, i)\n",
    "                x.extend(x1)\n",
    "                y.extend(y1)\n",
    "                for element in x1:\n",
    "                    labelz.append(string[element])\n",
    "        make_scale(dropdown1.value, dropdown2.value)\n",
    "        graph1()\n",
    "          "
   ]
  },
  {
   "cell_type": "code",
   "execution_count": 50,
   "metadata": {},
   "outputs": [],
   "source": [
    "SelSlid = widgets.SelectionSlider(\n",
    "    options=['C' , 'C#', 'D', 'D#', 'E', 'F', 'F#' , 'G', 'G#', 'A', 'A#', 'B'],\n",
    "    value='C',\n",
    "    description='Note',\n",
    "    disabled=False,\n",
    "    continuous_update=False,\n",
    "    orientation='horizontal',\n",
    "    readout=True\n",
    ")\n",
    "\n",
    "dropdown1 = widgets.Dropdown(\n",
    "    options=['C' , 'C#', 'D', 'D#', 'E', 'F', 'F#' , 'G', 'G#', 'A', 'A#', 'B'],\n",
    "    value='C',\n",
    "    description='Note',\n",
    "    disabled=False,\n",
    ")\n",
    "\n",
    "dropdown2 = widgets.Dropdown(\n",
    "    options=['major', 'np_major_inverse', 'dorian', 'phrygian', 'lydian', 'mixolydian', 'aeolian', \n",
    "    'locrian', 'harmonic_minor', 'minor', 'pentatonic_minor', 'pentatonic_major', 'minor_blues', 'maj', 'dor', 'phr', 'lyd', 'mix', 'aeo', 'loc', 'har', 'min'],\n",
    "    description = 'Mode',\n",
    "    value = 'maj',\n",
    "    disabled = False,\n",
    "    )"
   ]
  },
  {
   "cell_type": "code",
   "execution_count": 51,
   "metadata": {},
   "outputs": [
    {
     "data": {
      "application/vnd.jupyter.widget-view+json": {
       "model_id": "e029cc075edb47309a340604024572ca",
       "version_major": 2,
       "version_minor": 0
      },
      "text/plain": [
       "SelectionSlider(continuous_update=False, description='Note', options=('C', 'C#', 'D', 'D#', 'E', 'F', 'F#', 'G…"
      ]
     },
     "metadata": {},
     "output_type": "display_data"
    },
    {
     "data": {
      "application/vnd.jupyter.widget-view+json": {
       "model_id": "456eed8704824e64937ccf0e6f1dacfe",
       "version_major": 2,
       "version_minor": 0
      },
      "text/plain": [
       "Dropdown(description='Mode', index=13, options=('major', 'np_major_inverse', 'dorian', 'phrygian', 'lydian', '…"
      ]
     },
     "metadata": {},
     "output_type": "display_data"
    },
    {
     "data": {
      "application/vnd.jupyter.widget-view+json": {
       "model_id": "92b2894aa625413d8c628e9e41452465",
       "version_major": 2,
       "version_minor": 0
      },
      "text/plain": [
       "VBox(children=(Button(description='Display', style=ButtonStyle()), Output()))"
      ]
     },
     "metadata": {},
     "output_type": "display_data"
    }
   ],
   "source": [
    "display(SelSlid, dropdown2, VBox([button,out]))"
   ]
  },
  {
   "cell_type": "markdown",
   "metadata": {},
   "source": [
    "# Import numpy as np\n",
    "import numpy as np\n",
    "from bokeh.models.widgets import Panel, Tabs\n",
    "from bokeh.io import show\n",
    "from bokeh.plotting import figure\n",
    "\n",
    "# Create array  x\n",
    "# Create array  y\n",
    "\n",
    "def create_tabs():\n",
    "    global tabz\n",
    "    global p\n",
    "    tabz= []\n",
    "    tab1 = []\n",
    "    \n",
    "    tab1 = Panel(child = p, title = '1')\n",
    "    tabz.append(tab1)\n",
    "    \n",
    "    \n",
    "make_values(note = 'C', modo = 'maj')\n",
    "graph2()\n",
    "create_tabs()\n",
    "make_values(note= 'G', modo = 'maj')\n",
    "graph2()\n",
    "create_tabs()   \n",
    "    \n",
    "    \n",
    "tablas = {'tab1': tabz[0],\n",
    "          'tab2': tabz[0]}\n",
    "\n",
    "\n",
    "layout = Tabs(tabs =[tablas['tab1'], tablas['tab2']])\n",
    "show(layout)\n",
    "\n",
    "#layout = Tabs(tabs=[tab1,tab2])\n",
    "#show(layout)"
   ]
  },
  {
   "cell_type": "markdown",
   "metadata": {
    "collapsed": true
   },
   "source": [
    "results = [whole_notes.index(str(i)) for i in make_scale('G', 'phrygian')]\n",
    "print(results)"
   ]
  },
  {
   "cell_type": "markdown",
   "metadata": {
    "collapsed": true
   },
   "source": [
    "np_major_inverse = np_major_inter*(-1)\n",
    "print(np_major_inverse)\n"
   ]
  },
  {
   "cell_type": "code",
   "execution_count": null,
   "metadata": {
    "collapsed": true
   },
   "outputs": [],
   "source": []
  },
  {
   "cell_type": "markdown",
   "metadata": {
    "collapsed": true
   },
   "source": [
    "make_scale('C', 'np_major_inverse')"
   ]
  },
  {
   "cell_type": "markdown",
   "metadata": {
    "collapsed": true
   },
   "source": [
    "modos['np_major_inverse']"
   ]
  },
  {
   "cell_type": "markdown",
   "metadata": {
    "collapsed": true
   },
   "source": [
    "make_scale('G', 'phrygian')"
   ]
  },
  {
   "cell_type": "markdown",
   "metadata": {
    "collapsed": true
   },
   "source": [
    "                \n",
    "def make_scale (note, modo): \n",
    "    global full_scales\n",
    "    index_note = whole_notes.index(note)+12\n",
    "    scale = []\n",
    "    for interval in (modos[modo] + index_note):\n",
    "        scale.append(whole_notes[interval])\n",
    "    zcale = np.array(scale)\n",
    "    np.append(full_scales[modo], zcale)\n",
    "    return(scale)"
   ]
  },
  {
   "cell_type": "markdown",
   "metadata": {
    "collapsed": true
   },
   "source": [
    "make_scale(note='C', modo='major_inverse')"
   ]
  },
  {
   "cell_type": "markdown",
   "metadata": {
    "collapsed": true
   },
   "source": [
    "make_scale(note='C', modo='minor_inverse')"
   ]
  },
  {
   "cell_type": "markdown",
   "metadata": {
    "collapsed": true
   },
   "source": [
    "major_inverse = np.array([i for i in 12-np_major_inter])\n",
    "minor_inverse = np.array([i for i in 12-modos['minor']])\n",
    "\n",
    "major_inverse"
   ]
  },
  {
   "cell_type": "markdown",
   "metadata": {
    "collapsed": true
   },
   "source": [
    "np_major_inter"
   ]
  },
  {
   "cell_type": "markdown",
   "metadata": {
    "collapsed": true
   },
   "source": [
    "modos['major_inverse'] = major_inverse\n",
    "full_scales['major_inverse'] = []\n",
    "\n",
    "modos['minor_inverse'] = minor_inverse\n",
    "full_scales['minor_inverse'] = []"
   ]
  },
  {
   "cell_type": "markdown",
   "metadata": {
    "collapsed": true
   },
   "source": [
    "whole_notes[10]"
   ]
  }
 ],
 "metadata": {
  "kernelspec": {
   "display_name": "Python 3",
   "language": "python",
   "name": "python3"
  },
  "language_info": {
   "codemirror_mode": {
    "name": "ipython",
    "version": 3
   },
   "file_extension": ".py",
   "mimetype": "text/x-python",
   "name": "python",
   "nbconvert_exporter": "python",
   "pygments_lexer": "ipython3",
   "version": "3.6.1"
  },
  "toc": {
   "base_numbering": 1,
   "nav_menu": {},
   "number_sections": false,
   "sideBar": false,
   "skip_h1_title": false,
   "title_cell": "Table of Contents",
   "title_sidebar": "Contents",
   "toc_cell": false,
   "toc_position": {},
   "toc_section_display": false,
   "toc_window_display": false
  }
 },
 "nbformat": 4,
 "nbformat_minor": 2
}
